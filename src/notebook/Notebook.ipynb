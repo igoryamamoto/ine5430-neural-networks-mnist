{
 "cells": [
  {
   "cell_type": "markdown",
   "metadata": {},
   "source": [
    "# Importação de módulos"
   ]
  },
  {
   "cell_type": "code",
   "execution_count": 1,
   "metadata": {},
   "outputs": [
    {
     "name": "stderr",
     "output_type": "stream",
     "text": [
      "Using TensorFlow backend.\n"
     ]
    },
    {
     "name": "stdout",
     "output_type": "stream",
     "text": [
      "Usando a GPU\n"
     ]
    }
   ],
   "source": [
    "%matplotlib inline\n",
    "import random\n",
    "import seaborn as sn\n",
    "import numpy as np\n",
    "import matplotlib.pyplot as plt\n",
    "from sklearn import model_selection, metrics\n",
    "from sklearn.model_selection import train_test_split\n",
    "from sklearn.preprocessing import OneHotEncoder\n",
    "import tensorflow as tf\n",
    "from keras import backend as K\n",
    "import psutil\n",
    "import os \n",
    "from keras.models import Sequential\n",
    "from keras.layers import Dense, Activation\n",
    "from keras.utils import np_utils\n",
    "K.set_image_dim_ordering('th')\n",
    "import time\n",
    "\n",
    "num_cores = psutil.cpu_count()\n",
    "GPU= True\n",
    "\n",
    "if GPU:\n",
    "    num_GPU = 1\n",
    "    num_CPU = 1\n",
    "    print('Usando a GPU')\n",
    "else:\n",
    "    num_CPU = 1\n",
    "    num_GPU = 0\n",
    "    print('Usando apenas o CPU')\n",
    "\n",
    "config = tf.ConfigProto(intra_op_parallelism_threads=num_cores,\\\n",
    "        inter_op_parallelism_threads=num_cores, allow_soft_placement=True,\\\n",
    "        device_count = {'CPU' : num_CPU, 'GPU' : num_GPU})\n",
    "session = tf.Session(config=config)\n",
    "K.set_session(session)"
   ]
  },
  {
   "cell_type": "markdown",
   "metadata": {},
   "source": [
    "# Tratamento de Dados"
   ]
  },
  {
   "cell_type": "markdown",
   "metadata": {},
   "source": [
    "### Carregamento de dados"
   ]
  },
  {
   "cell_type": "markdown",
   "metadata": {},
   "source": [
    "Os dados são treinados são carregados, separando-se entre os dados contendo features e labels. Os dados de imagens são rotacionados para ficarem na posição correta."
   ]
  },
  {
   "cell_type": "code",
   "execution_count": 2,
   "metadata": {
    "collapsed": true,
    "scrolled": false
   },
   "outputs": [],
   "source": [
    "mnist = np.loadtxt('../data/exdata.csv', delimiter=',')\n",
    "\n",
    "data = mnist[:-1].T\n",
    "data = np.array(list(map(lambda d: d.reshape((20,20)).T.flatten(), data)))\n",
    "target = mnist[-1]\n",
    "\n",
    "target[target == 10] = 0"
   ]
  },
  {
   "cell_type": "markdown",
   "metadata": {},
   "source": [
    "### Exemplos de imagens do conjunto de dados"
   ]
  },
  {
   "cell_type": "code",
   "execution_count": 3,
   "metadata": {},
   "outputs": [
    {
     "data": {
      "image/png": "[encoded data removed]",
      "text/plain": [
       "<matplotlib.figure.Figure at 0x7fb79a3b8588>"
      ]
     },
     "metadata": {},
     "output_type": "display_data"
    }
   ],
   "source": [
    "rows = 2\n",
    "cols = 5\n",
    "f, axarr = plt.subplots(rows, cols)\n",
    "for r in range(rows):\n",
    "    for c in range(cols):\n",
    "        rand_data = random.choice(data)\n",
    "        axarr[r, c].imshow(rand_data.reshape((20,20)), cmap=plt.get_cmap('gray'))"
   ]
  },
  {
   "cell_type": "markdown",
   "metadata": {},
   "source": [
    "### Normalização de dados"
   ]
  },
  {
   "cell_type": "markdown",
   "metadata": {},
   "source": [
    "A saída é normalizada através do OneHotEncoder, que transforma o valor do target em um vetor de zeros e valor 1 no índicie correspondente ao valor do target"
   ]
  },
  {
   "cell_type": "code",
   "execution_count": 4,
   "metadata": {
    "collapsed": true,
    "scrolled": true
   },
   "outputs": [],
   "source": [
    "target_scaler = OneHotEncoder()\n",
    "target_normalized = target_scaler.fit_transform(target.reshape((-1, 1))).todense()"
   ]
  },
  {
   "cell_type": "markdown",
   "metadata": {},
   "source": [
    "### Separação de dados treinano/teste"
   ]
  },
  {
   "cell_type": "markdown",
   "metadata": {},
   "source": [
    "15% dos dados serão separados para teste"
   ]
  },
  {
   "cell_type": "code",
   "execution_count": 6,
   "metadata": {},
   "outputs": [],
   "source": [
    "data_train, data_test, target_train, target_test = train_test_split(\n",
    "    data,\n",
    "    target_normalized,\n",
    "    train_size=(85/100),\n",
    ")"
   ]
  },
  {
   "cell_type": "markdown",
   "metadata": {},
   "source": [
    "## Definição da arquitetura"
   ]
  },
  {
   "cell_type": "markdown",
   "metadata": {},
   "source": [
    "|       Camada     |    Neurônios |\n",
    "|---------------------------------|\n",
    "|entrada           | 400          |\n",
    "|hidden layer      | 205          |\n",
    "|          saída   | 10           |"
   ]
  },
  {
   "cell_type": "code",
   "execution_count": 7,
   "metadata": {
    "collapsed": true
   },
   "outputs": [],
   "source": [
    "def mlp():\n",
    "    model = Sequential()\n",
    "    model.add(Dense(205, input_dim=400, kernel_initializer=\"normal\"))\n",
    "    model.add(Activation('relu'))\n",
    "    model.add(Dense(10, kernel_initializer=\"normal\"))\n",
    "    model.add(Activation('softmax'))\n",
    "    model.compile(loss='categorical_crossentropy', optimizer='adam', metrics=['accuracy'])\n",
    "    return model"
   ]
  },
  {
   "cell_type": "markdown",
   "metadata": {},
   "source": [
    "## Treinamento da rede"
   ]
  },
  {
   "cell_type": "code",
   "execution_count": 8,
   "metadata": {},
   "outputs": [
    {
     "name": "stdout",
     "output_type": "stream",
     "text": [
      "Treinando a rede\n",
      "Pesos salvos\n",
      "Baseline Error: 6.00%\n",
      "Rede treinada/buscada em 17.76 segundos\n"
     ]
    }
   ],
   "source": [
    "model = mlp()\n",
    "\n",
    "start_time = time.time()\n",
    "\n",
    "treinar = True\n",
    "if treinar:\n",
    "    print(\"Treinando a rede\")\n",
    "    model.fit(data_train, \n",
    "              target_train, \n",
    "              validation_data=(data_test, target_test), \n",
    "              epochs=100, \n",
    "              batch_size=150, \n",
    "              verbose=0\n",
    "             )\n",
    "    model.save_weights(\"mlp.h5\")\n",
    "    print(\"Pesos salvos\")\n",
    "else:\n",
    "    model.load_weights(\"mlp.h5\")\n",
    "    print(\"Pesos recuperados do disco\")\n",
    "\n",
    "scores = model.evaluate(data_test, target_test, verbose=0)\n",
    "\n",
    "print(\"Baseline Error: %.2f%%\" % (100-scores[1]*100))\n",
    "print(\"Rede treinada/buscada em %.2f segundos\" % (time.time() - start_time))"
   ]
  },
  {
   "cell_type": "markdown",
   "metadata": {},
   "source": [
    "## Resultados"
   ]
  },
  {
   "cell_type": "markdown",
   "metadata": {},
   "source": [
    "#### Teste Utilizando Todos os Dados"
   ]
  },
  {
   "cell_type": "code",
   "execution_count": 9,
   "metadata": {
    "scrolled": true
   },
   "outputs": [
    {
     "name": "stdout",
     "output_type": "stream",
     "text": [
      "Test set accuracy: 99.10%\n"
     ]
    }
   ],
   "source": [
    "predictions_all = model.predict(data)\n",
    "predictions_all = np.argmax(predictions_all, axis=1)\n",
    "print(\"Test set accuracy: {:.2%}\".format(\n",
    "    metrics.accuracy_score(target, predictions_all)))"
   ]
  },
  {
   "cell_type": "markdown",
   "metadata": {},
   "source": [
    "\n",
    "Matriz de confusão para todo o conjunto de dados."
   ]
  },
  {
   "cell_type": "code",
   "execution_count": 10,
   "metadata": {},
   "outputs": [
    {
     "data": {
      "text/plain": [
       "<matplotlib.axes._subplots.AxesSubplot at 0x7fb79a333390>"
      ]
     },
     "execution_count": 10,
     "metadata": {},
     "output_type": "execute_result"
    },
    {
     "data": {
      "image/png": "[encoded data removed]",
      "text/plain": [
       "<matplotlib.figure.Figure at 0x7fb79a3339e8>"
      ]
     },
     "metadata": {},
     "output_type": "display_data"
    }
   ],
   "source": [
    "confusion_matrix = metrics.confusion_matrix(target, predictions_all)\n",
    "sn.heatmap(confusion_matrix, annot=True, fmt='d')"
   ]
  },
  {
   "cell_type": "code",
   "execution_count": 11,
   "metadata": {
    "scrolled": false
   },
   "outputs": [
    {
     "name": "stdout",
     "output_type": "stream",
     "text": [
      "             precision    recall  f1-score   support\n",
      "\n",
      "        0.0       1.00      1.00      1.00       500\n",
      "        1.0       1.00      1.00      1.00       500\n",
      "        2.0       0.99      0.98      0.98       500\n",
      "        3.0       0.99      0.99      0.99       500\n",
      "        4.0       0.99      0.99      0.99       500\n",
      "        5.0       0.99      0.99      0.99       500\n",
      "        6.0       0.99      0.99      0.99       500\n",
      "        7.0       0.99      0.99      0.99       500\n",
      "        8.0       0.98      0.99      0.99       500\n",
      "        9.0       0.99      0.99      0.99       500\n",
      "\n",
      "avg / total       0.99      0.99      0.99      5000\n",
      "\n"
     ]
    }
   ],
   "source": [
    "print(metrics.classification_report(target, predictions_all))"
   ]
  },
  {
   "cell_type": "markdown",
   "metadata": {},
   "source": [
    "#### Teste Utilizando Apenas o Conjunto de Teste"
   ]
  },
  {
   "cell_type": "code",
   "execution_count": 12,
   "metadata": {},
   "outputs": [
    {
     "name": "stdout",
     "output_type": "stream",
     "text": [
      "Test set accuracy: 94.00%\n"
     ]
    }
   ],
   "source": [
    "predictions = model.predict(data_test)\n",
    "predictions = np.argmax(predictions, axis=1)\n",
    "target_test_classes = np.asarray(target_test.argmax(axis=1)).reshape(-1)\n",
    "print(\"Test set accuracy: {:.2%}\".format(\n",
    "    metrics.accuracy_score(target_test_classes, predictions)))"
   ]
  },
  {
   "cell_type": "markdown",
   "metadata": {},
   "source": [
    "\n",
    "Matriz de confusão para o conjunto teste."
   ]
  },
  {
   "cell_type": "code",
   "execution_count": 13,
   "metadata": {
    "scrolled": true
   },
   "outputs": [
    {
     "data": {
      "text/plain": [
       "<matplotlib.axes._subplots.AxesSubplot at 0x7fb79a333940>"
      ]
     },
     "execution_count": 13,
     "metadata": {},
     "output_type": "execute_result"
    },
    {
     "data": {
      "image/png": "[encoded data removed]",
      "text/plain": [
       "<matplotlib.figure.Figure at 0x7fb79a3f0780>"
      ]
     },
     "metadata": {},
     "output_type": "display_data"
    }
   ],
   "source": [
    "confusion_matrix = metrics.confusion_matrix(target_test_classes, predictions)\n",
    "sn.heatmap(confusion_matrix, annot=True, fmt='d')"
   ]
  },
  {
   "cell_type": "code",
   "execution_count": 14,
   "metadata": {
    "scrolled": false
   },
   "outputs": [
    {
     "name": "stdout",
     "output_type": "stream",
     "text": [
      "             precision    recall  f1-score   support\n",
      "\n",
      "          0       0.97      0.97      0.97        68\n",
      "          1       0.97      1.00      0.99        67\n",
      "          2       0.93      0.86      0.90        81\n",
      "          3       0.95      0.93      0.94        85\n",
      "          4       0.92      0.94      0.93        65\n",
      "          5       0.95      0.94      0.95        83\n",
      "          6       0.95      0.96      0.96        84\n",
      "          7       0.93      0.94      0.93        66\n",
      "          8       0.86      0.93      0.90        69\n",
      "          9       0.95      0.94      0.94        82\n",
      "\n",
      "avg / total       0.94      0.94      0.94       750\n",
      "\n"
     ]
    }
   ],
   "source": [
    "print(metrics.classification_report(target_test_classes, predictions))"
   ]
  },
  {
   "cell_type": "markdown",
   "metadata": {
    "collapsed": true
   },
   "source": [
    "### Alguns erros de classificação"
   ]
  },
  {
   "cell_type": "code",
   "execution_count": 15,
   "metadata": {},
   "outputs": [
    {
     "data": {
      "image/png": "[encoded data removed]",
      "text/plain": [
       "<matplotlib.figure.Figure at 0x7fb777d24390>"
      ]
     },
     "metadata": {},
     "output_type": "display_data"
    }
   ],
   "source": [
    "wrong_class = [i for i in range(predictions.size) if predictions[i]!=target_test_classes[i]]\n",
    "rows = 2\n",
    "cols = 4\n",
    "f, axarr = plt.subplots(rows, cols)\n",
    "for r in range(rows):\n",
    "    for c in range(cols):\n",
    "        rand_i = random.choice(wrong_class)\n",
    "        axarr[r, c].imshow(data_test[rand_i].reshape((20,20)), cmap=plt.get_cmap('gray'))\n",
    "        axarr[r, c].set_title('Pred:{}, Real:{}'.format(predictions[rand_i], \n",
    "                                                        target_test_classes[rand_i]))"
   ]
  },
  {
   "cell_type": "markdown",
   "metadata": {},
   "source": [
    "# Classificação de novos dados"
   ]
  },
  {
   "cell_type": "code",
   "execution_count": 16,
   "metadata": {},
   "outputs": [
    {
     "name": "stdout",
     "output_type": "stream",
     "text": [
      "[ 0.83503062  0.05407155]\n",
      "[5 3]\n"
     ]
    },
    {
     "data": {
      "text/plain": [
       "<matplotlib.image.AxesImage at 0x7fb776bc2400>"
      ]
     },
     "execution_count": 16,
     "metadata": {},
     "output_type": "execute_result"
    },
    {
     "data": {
      "image/png": "[encoded data removed]",
      "text/plain": [
       "<matplotlib.figure.Figure at 0x7fb77726ccc0>"
      ]
     },
     "metadata": {},
     "output_type": "display_data"
    }
   ],
   "source": [
    "from PIL import Image\n",
    "import matplotlib.image as mpimg\n",
    "from resizeimage import resizeimage\n",
    "\n",
    "\n",
    "with open('5.png', 'r+b') as f:\n",
    "    with Image.open(f) as image:\n",
    "        cover = resizeimage.resize_cover(image, [20, 20]).convert('L')\n",
    "        cover.save('5inho.png', image.format)\n",
    "with open('7.png', 'r+b') as f:\n",
    "    with Image.open(f) as image:\n",
    "        cover = resizeimage.resize_cover(image, [20, 20]).convert('L')\n",
    "        cover.save('7inho.png', image.format)\n",
    "img5 = mpimg.imread('5inho.png').flatten()\n",
    "img7 = mpimg.imread('7inho.png').flatten()\n",
    "img = np.vstack((img5,img7))\n",
    "y = model.predict(img)\n",
    "output = y.argmax(axis=1)\n",
    "print(y[0][output])\n",
    "print(output)\n",
    "f, axarr = plt.subplots(1, 2)\n",
    "axarr[0].imshow(img5.reshape((20,20)), cmap=plt.get_cmap('gray'))\n",
    "axarr[1].imshow(img7.reshape((20,20)), cmap=plt.get_cmap('gray'))"
   ]
  },
  {
   "cell_type": "code",
   "execution_count": null,
   "metadata": {
    "collapsed": true
   },
   "outputs": [],
   "source": []
  }
 ],
 "metadata": {
  "kernelspec": {
   "display_name": "Python 3",
   "language": "python",
   "name": "python3"
  },
  "language_info": {
   "codemirror_mode": {
    "name": "ipython",
    "version": 3
   },
   "file_extension": ".py",
   "mimetype": "text/x-python",
   "name": "python",
   "nbconvert_exporter": "python",
   "pygments_lexer": "ipython3",
   "version": "3.5.2"
  }
 },
 "nbformat": 4,
 "nbformat_minor": 2
}
