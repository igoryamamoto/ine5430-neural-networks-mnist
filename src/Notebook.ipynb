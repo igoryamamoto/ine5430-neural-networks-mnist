{
 "cells": [
  {
   "cell_type": "markdown",
   "metadata": {},
   "source": [
    "# Importação de módulos"
   ]
  },
  {
   "cell_type": "code",
   "execution_count": 1,
   "metadata": {
    "collapsed": true
   },
   "outputs": [],
   "source": [
    "%matplotlib inline\n",
    "import seaborn as sn\n",
    "import numpy as np\n",
    "import matplotlib.pyplot as plt\n",
    "from sklearn import model_selection, metrics\n",
    "from sklearn.model_selection import train_test_split\n",
    "from sklearn.preprocessing import OneHotEncoder, StandardScaler\n",
    "import tensorflow as tf\n",
    "from keras import backend as K\n",
    "import psutil\n",
    "import os \n",
    "from keras.models import Sequential\n",
    "from keras.layers import Dense, Activation\n",
    "#from keras.layers import Dropout\n",
    "from keras.utils import np_utils\n",
    "#from keras.layers import Flatten\n",
    "#from keras.layers.convolutional import Convolution2D\n",
    "#from keras.layers.convolutional import MaxPooling2D\n",
    "#from keras import backend as K\n",
    "K.set_image_dim_ordering('th')\n",
    "import time\n",
    "\n",
    "num_cores = psutil.cpu_count()\n",
    "GPU= True\n",
    "\n",
    "if GPU:\n",
    "    num_GPU = 1\n",
    "    num_CPU = 1\n",
    "    print('Usando a GPU')\n",
    "else:\n",
    "    num_CPU = 1\n",
    "    num_GPU = 0\n",
    "    print('Usando apenas o CPU')\n",
    "\n",
    "config = tf.ConfigProto(intra_op_parallelism_threads=num_cores,\\\n",
    "        inter_op_parallelism_threads=num_cores, allow_soft_placement=True,\\\n",
    "        device_count = {'CPU' : num_CPU, 'GPU' : num_GPU})\n",
    "session = tf.Session(config=config)\n",
    "K.set_session(session)"
   ]
  },
  {
   "cell_type": "markdown",
   "metadata": {},
   "source": [
    "# Tratamento de Dados"
   ]
  },
  {
   "cell_type": "markdown",
   "metadata": {},
   "source": [
    "### Carregamento de dados"
   ]
  },
  {
   "cell_type": "code",
   "execution_count": 3,
   "metadata": {
    "collapsed": true,
    "scrolled": false
   },
   "outputs": [],
   "source": [
    "data = np.loadtxt('exdata.csv', delimiter=',')\n",
    "\n",
    "features = data[:-1].T\n",
    "target = data[-1]\n",
    "\n",
    "target[target == 10] = 0"
   ]
  },
  {
   "cell_type": "markdown",
   "metadata": {},
   "source": [
    "### Normalização de dados"
   ]
  },
  {
   "cell_type": "markdown",
   "metadata": {},
   "source": [
    "\n",
    "Para normalizar os dados foi utilizada a classe StandardScaler que permite guardar os parâmetros utilizados para pode reverter a normalização dos dados ou utilizar a mesma normalização em outros dados. Para normalizar é calculado a média e desvio padrão para criar os parâmetros. O método fit_transform realiza o cálculo e a normalização.\n",
    "    \n",
    "A normalização da saída é feita utilizando OneHotEncoder, que transforma aquela saída única em um vetor colocando 0 paras as outras possíveis saídas da rede e 1 para a saída correta."
   ]
  },
  {
   "cell_type": "code",
   "execution_count": 4,
   "metadata": {
    "collapsed": true,
    "scrolled": true
   },
   "outputs": [],
   "source": [
    "data_scaler = StandardScaler()\n",
    "data_normalized = data_scaler.fit_transform(features)\n",
    "\n",
    "target_scaler = OneHotEncoder()\n",
    "target_normalized = target_scaler.fit_transform(target.reshape((-1, 1))).todense()"
   ]
  },
  {
   "cell_type": "markdown",
   "metadata": {},
   "source": [
    "### Separação de dados treinano/teste"
   ]
  },
  {
   "cell_type": "markdown",
   "metadata": {},
   "source": [
    "\n",
    "Foi separado 15% dos dados para formarem o conjunto de teste."
   ]
  },
  {
   "cell_type": "code",
   "execution_count": 5,
   "metadata": {},
   "outputs": [],
   "source": [
    "data_train, data_test, target_train, target_test = train_test_split(\n",
    "    data_normalized,\n",
    "    target_normalized,\n",
    "    train_size=(85/100),\n",
    ")"
   ]
  },
  {
   "cell_type": "markdown",
   "metadata": {},
   "source": [
    "## Definição da arquitetura"
   ]
  },
  {
   "cell_type": "markdown",
   "metadata": {},
   "source": [
    "\n",
    "A rede é configurada da seguinte forma: a camada de entrada com 400 neurônios, a hidden layer com 205 neurônios e a camada de saída com 10 neurônios."
   ]
  },
  {
   "cell_type": "code",
   "execution_count": 73,
   "metadata": {
    "collapsed": true
   },
   "outputs": [],
   "source": [
    "def mlp():\n",
    "    model = Sequential()\n",
    "    model.add(Dense(205, input_dim=400, kernel_initializer=\"normal\"))\n",
    "    model.add(Activation('relu'))\n",
    "    model.add(Dense(10, kernel_initializer=\"normal\"))\n",
    "    model.add(Activation('softmax'))\n",
    "    model.compile(loss='categorical_crossentropy', optimizer='adam', metrics=['accuracy'])\n",
    "    return model"
   ]
  },
  {
   "cell_type": "markdown",
   "metadata": {},
   "source": [
    "## Treinamento da rede"
   ]
  },
  {
   "cell_type": "code",
   "execution_count": 74,
   "metadata": {},
   "outputs": [
    {
     "name": "stdout",
     "output_type": "stream",
     "text": [
      "Treinando a rede\n",
      "Pesos salvos\n",
      "Baseline Error: 6.80%\n",
      "Rede treinada/buscada em 19.46 segundos\n"
     ]
    }
   ],
   "source": [
    "model = mlp()\n",
    "\n",
    "start_time = time.time()\n",
    "\n",
    "treinar = True\n",
    "if treinar:\n",
    "    print(\"Treinando a rede\")\n",
    "    model.fit(data_train, target_train, validation_data=(data_test, target_test), epochs=100, batch_size=150, verbose=0)\n",
    "    model.save_weights(\"mlp.h5\")\n",
    "    print(\"Pesos salvos\")\n",
    "else:\n",
    "    model.load_weights(\"mlp.h5\")\n",
    "    print(\"Pesos recuperados do disco\")\n",
    "\n",
    "scores = model.evaluate(data_test, target_test, verbose=0)\n",
    "\n",
    "print(\"Baseline Error: %.2f%%\" % (100-scores[1]*100))\n",
    "print(\"Rede treinada/buscada em %.2f segundos\" % (time.time() - start_time))"
   ]
  },
  {
   "cell_type": "markdown",
   "metadata": {},
   "source": [
    "## Resultados"
   ]
  },
  {
   "cell_type": "markdown",
   "metadata": {},
   "source": [
    "#### Teste Utilizando Todos os Dados"
   ]
  },
  {
   "cell_type": "code",
   "execution_count": 75,
   "metadata": {
    "scrolled": true
   },
   "outputs": [
    {
     "name": "stdout",
     "output_type": "stream",
     "text": [
      "Test set accuracy: 98.98%\n"
     ]
    }
   ],
   "source": [
    "predictions_all = model.predict(data_normalized)\n",
    "predictions_all = np.argmax(predictions_all, axis=1)\n",
    "print(\"Test set accuracy: {:.2%}\".format(\n",
    "    metrics.accuracy_score(target, predictions_all)))"
   ]
  },
  {
   "cell_type": "markdown",
   "metadata": {},
   "source": [
    "\n",
    "Matriz de confusão para todo o conjunto de dados."
   ]
  },
  {
   "cell_type": "code",
   "execution_count": 76,
   "metadata": {},
   "outputs": [
    {
     "data": {
      "text/plain": [
       "<matplotlib.axes._subplots.AxesSubplot at 0x7fb7760f0da0>"
      ]
     },
     "execution_count": 76,
     "metadata": {},
     "output_type": "execute_result"
    },
    {
     "data": {
      "image/png": "[encoded data removed]",
      "text/plain": [
       "<matplotlib.figure.Figure at 0x7fb77615d940>"
      ]
     },
     "metadata": {},
     "output_type": "display_data"
    }
   ],
   "source": [
    "confusion_matrix = metrics.confusion_matrix(target, predictions_all)\n",
    "sn.heatmap(confusion_matrix, annot=True, fmt='d')"
   ]
  },
  {
   "cell_type": "code",
   "execution_count": 77,
   "metadata": {
    "scrolled": false
   },
   "outputs": [
    {
     "name": "stdout",
     "output_type": "stream",
     "text": [
      "             precision    recall  f1-score   support\n",
      "\n",
      "        0.0       1.00      1.00      1.00       500\n",
      "        1.0       0.99      1.00      0.99       500\n",
      "        2.0       0.99      0.99      0.99       500\n",
      "        3.0       0.99      1.00      0.99       500\n",
      "        4.0       0.99      0.98      0.99       500\n",
      "        5.0       0.98      0.99      0.99       500\n",
      "        6.0       0.99      0.99      0.99       500\n",
      "        7.0       0.99      0.99      0.99       500\n",
      "        8.0       0.99      0.98      0.99       500\n",
      "        9.0       0.99      0.98      0.98       500\n",
      "\n",
      "avg / total       0.99      0.99      0.99      5000\n",
      "\n"
     ]
    }
   ],
   "source": [
    "print(metrics.classification_report(target, predictions_all))"
   ]
  },
  {
   "cell_type": "markdown",
   "metadata": {},
   "source": [
    "#### Teste Utilizando Apenas o Conjunto de Teste"
   ]
  },
  {
   "cell_type": "code",
   "execution_count": 78,
   "metadata": {},
   "outputs": [
    {
     "name": "stdout",
     "output_type": "stream",
     "text": [
      "Test set accuracy: 93.20%\n"
     ]
    }
   ],
   "source": [
    "predictions = model.predict(data_test)\n",
    "predictions = np.argmax(predictions, axis=1)\n",
    "target_test_classes = np.asarray(target_test.argmax(axis=1)).reshape(-1)\n",
    "print(\"Test set accuracy: {:.2%}\".format(\n",
    "    metrics.accuracy_score(target_test_classes, predictions)))"
   ]
  },
  {
   "cell_type": "markdown",
   "metadata": {},
   "source": [
    "\n",
    "Matriz de confusão para o conjunto teste."
   ]
  },
  {
   "cell_type": "code",
   "execution_count": 79,
   "metadata": {
    "scrolled": true
   },
   "outputs": [
    {
     "data": {
      "text/plain": [
       "<matplotlib.axes._subplots.AxesSubplot at 0x7fb775dbfeb8>"
      ]
     },
     "execution_count": 79,
     "metadata": {},
     "output_type": "execute_result"
    },
    {
     "data": {
      "image/png": "[encoded data removed]",
      "text/plain": [
       "<matplotlib.figure.Figure at 0x7fb775dd8b38>"
      ]
     },
     "metadata": {},
     "output_type": "display_data"
    }
   ],
   "source": [
    "confusion_matrix = metrics.confusion_matrix(target_test_classes, predictions)\n",
    "sn.heatmap(confusion_matrix, annot=True, fmt='d')"
   ]
  },
  {
   "cell_type": "code",
   "execution_count": 80,
   "metadata": {
    "scrolled": false
   },
   "outputs": [
    {
     "name": "stdout",
     "output_type": "stream",
     "text": [
      "             precision    recall  f1-score   support\n",
      "\n",
      "          0       0.99      0.97      0.98        80\n",
      "          1       0.95      0.97      0.96        73\n",
      "          2       0.91      0.94      0.92        71\n",
      "          3       0.93      0.98      0.95        64\n",
      "          4       0.93      0.87      0.90        62\n",
      "          5       0.90      0.94      0.92        89\n",
      "          6       0.95      0.91      0.93        68\n",
      "          7       0.92      0.94      0.93        88\n",
      "          8       0.94      0.89      0.91        81\n",
      "          9       0.92      0.88      0.90        74\n",
      "\n",
      "avg / total       0.93      0.93      0.93       750\n",
      "\n"
     ]
    }
   ],
   "source": [
    "print(metrics.classification_report(target_test_classes, predictions))"
   ]
  }
 ],
 "metadata": {
  "kernelspec": {
   "display_name": "Python 3",
   "language": "python",
   "name": "python3"
  },
  "language_info": {
   "codemirror_mode": {
    "name": "ipython",
    "version": 3
   },
   "file_extension": ".py",
   "mimetype": "text/x-python",
   "name": "python",
   "nbconvert_exporter": "python",
   "pygments_lexer": "ipython3",
   "version": "3.5.2"
  }
 },
 "nbformat": 4,
 "nbformat_minor": 2
}
